{
 "cells": [
  {
   "cell_type": "code",
   "execution_count": 6,
   "metadata": {
    "collapsed": true
   },
   "outputs": [],
   "source": [
    "from __future__ import print_function\n",
    "import pyodbc\n",
    "import math\n",
    "import numpy as np\n",
    "import os\n",
    "import sys\n",
    "from sklearn.cluster import KMeans"
   ]
  },
  {
   "cell_type": "code",
   "execution_count": 35,
   "metadata": {
    "collapsed": false
   },
   "outputs": [],
   "source": [
    "conn = pyodbc.connect(r'DRIVER={ODBC Driver 13 for SQL Server};'\n",
    "                      r'SERVER=mpk4uitxo6.database.windows.net;'\n",
    "                      r'DATABASE=Sensoria.Knowledge.Database.Live;'\n",
    "                      r'UID=liveuser;'\n",
    "                      r'PWD=7oHWE^Gcr834C*zH;')"
   ]
  },
  {
   "cell_type": "code",
   "execution_count": 8,
   "metadata": {
    "collapsed": false
   },
   "outputs": [],
   "source": [
    "cursor=conn.cursor()\n",
    "cursor.execute(\"WITH cte AS(SELECT SessionId,[TelemetryTimeTick] AS Tick,GeoLocation as P1, LEAD(GeoLocation, 1) OVER (PARTITION BY SessionId ORDER BY [TelemetryTimeTick]) as P2,LEAD([TelemetryTimeTick], 1) OVER (PARTITION BY SessionId ORDER BY [TelemetryTimeTick]) as T2 FROM  dbo.[Sessions.TelemetryData]), cte2 as (select SessionId,Tick,DistanceCalculated = P1.STDistance(P2),TimeDistance = T2-Tick,P1.STDistance(P2)/(T2-Tick) as SpeedCalculated from cte\t), cte3 as( select\t*,PointClass = case when DistanceCalculated is null or SpeedCalculated < 0.85 then 'A' when SpeedCalculated > 11 then 'B' else 'C' end from cte2), cte4 as( select\tSessionId,CountA = count(case when PointClass = 'A' then 1 else null end),CountC = count(case when PointClass = 'C' then 1 else null end),CountB = count(case when PointClass = 'B' then 1 else null end),DistanceB = sum(case when PointClass = 'B' then DistanceCalculated else null end),TotalDistance = sum(DistanceCalculated),TotalCount = count(*) from cte3 group by SessionId)select SessionId,(CountA*1.)/TotalCount,(CountC*1.)/TotalCount,(CountB*1.)/TotalCount,(DistanceB * 1.) / NULLIF(TotalDistance,0) from cte4\")\n",
    "rows= cursor.fetchall()"
   ]
  },
  {
   "cell_type": "code",
   "execution_count": 9,
   "metadata": {
    "collapsed": false
   },
   "outputs": [],
   "source": [
    "arrayMultiDim=np.array([])\n",
    "sessionId=list()\n",
    "for i in range(len(rows)):\n",
    "    if rows[i][1] is not None:\n",
    "        arrayMultiDim=np.append(arrayMultiDim,float(rows[i][1]))\n",
    "    else:\n",
    "        arrayMultiDim=np.append(arrayMultiDim,0)\n",
    "    if rows[i][2] is not None:\n",
    "        arrayMultiDim=np.append(arrayMultiDim,float(rows[i][2]))\n",
    "    else:\n",
    "        arrayMultiDim=np.append(arrayMultiDim,0)\n",
    "    if rows[i][3] is not None:\n",
    "        arrayMultiDim=np.append(arrayMultiDim,float(rows[i][3]))\n",
    "    else:\n",
    "        arrayMultiDim=np.append(arrayMultiDim,0)\n",
    "    if rows[i][4] is not None:\n",
    "        arrayMultiDim=np.append(arrayMultiDim,float(rows[i][4]))\n",
    "    else:\n",
    "        arrayMultiDim=np.append(arrayMultiDim,0)\n",
    "    sessionId.append(int(rows[i][0]))\n",
    "arrayMD=arrayMultiDim.reshape(len(rows),4)"
   ]
  },
  {
   "cell_type": "code",
   "execution_count": 11,
   "metadata": {
    "collapsed": false
   },
   "outputs": [
    {
     "data": {
      "text/plain": [
       "(23431, 23431)"
      ]
     },
     "execution_count": 11,
     "metadata": {},
     "output_type": "execute_result"
    }
   ],
   "source": [
    "len(sessionId),len(arrayMD)"
   ]
  },
  {
   "cell_type": "code",
   "execution_count": 44,
   "metadata": {
    "collapsed": false
   },
   "outputs": [
    {
     "name": "stdout",
     "output_type": "stream",
     "text": [
      "0\n"
     ]
    }
   ],
   "source": [
    "#for i in range(len(sessionId)):\n",
    "#    if sessionId[i]==27650:\n",
    "#        print(km.labels_[i])"
   ]
  },
  {
   "cell_type": "code",
   "execution_count": 12,
   "metadata": {
    "collapsed": false
   },
   "outputs": [
    {
     "name": "stdout",
     "output_type": "stream",
     "text": [
      "[[  9.79422407e-01   2.03286273e-02   2.48966141e-04   7.75551369e-03]\n",
      " [  9.83361062e-02   8.99103804e-01   2.56008982e-03   2.01184286e-02]\n",
      " [  5.44055343e-01   1.04783829e-01   3.51160828e-01   8.76390807e-01]]\n"
     ]
    },
    {
     "data": {
      "text/plain": [
       "array([1])"
      ]
     },
     "execution_count": 12,
     "metadata": {},
     "output_type": "execute_result"
    }
   ],
   "source": [
    "km=KMeans(n_clusters=3).fit(arrayMD)\n",
    "#centroidi\n",
    "print(km.cluster_centers_)\n",
    "km.predict((np.array([0.500, 0.500, 0.000, 0.000 ])).reshape(1,4))"
   ]
  },
  {
   "cell_type": "code",
   "execution_count": 13,
   "metadata": {
    "collapsed": false
   },
   "outputs": [
    {
     "name": "stdout",
     "output_type": "stream",
     "text": [
      "[[  4.92549900e-01   4.97413798e-01   1.00363021e-02   7.75086267e-02]\n",
      " [  5.85317218e-02   9.39508313e-01   1.95996564e-03   1.48826491e-02]\n",
      " [  9.90121613e-01   9.80391641e-03   7.44706429e-05   3.52583213e-03]\n",
      " [  2.22004013e-01   4.41361651e-02   7.33859822e-01   9.77085914e-01]\n",
      " [  7.82206229e-01   9.62466570e-02   1.21547114e-01   8.02177260e-01]]\n"
     ]
    }
   ],
   "source": [
    "km=KMeans(n_clusters=5).fit(arrayMD)\n",
    "#centroidi\n",
    "print(km.cluster_centers_)"
   ]
  },
  {
   "cell_type": "code",
   "execution_count": 14,
   "metadata": {
    "collapsed": false
   },
   "outputs": [
    {
     "name": "stdout",
     "output_type": "stream",
     "text": [
      "[[  9.89692032e-01   1.01304753e-02   1.77492668e-04   7.19140306e-03]\n",
      " [  5.86197850e-02   9.39501536e-01   1.87867916e-03   1.44940921e-02]\n",
      " [  5.38904096e-01   7.64500560e-02   3.84645848e-01   9.18006025e-01]\n",
      " [  4.97133821e-01   4.92585957e-01   1.02802212e-02   8.45980117e-02]]\n"
     ]
    }
   ],
   "source": [
    "km=KMeans(n_clusters=4).fit(arrayMD)\n",
    "#centroidi\n",
    "print(km.cluster_centers_)"
   ]
  },
  {
   "cell_type": "code",
   "execution_count": 19,
   "metadata": {
    "collapsed": false
   },
   "outputs": [],
   "source": [
    "for i in range(len(rows)):\n",
    "    if km.labels_[i]==1 and arrayMD[i][3]>0.1:\n",
    "        km.labels_[i]=2\n",
    "#casi anomali"
   ]
  },
  {
   "cell_type": "code",
   "execution_count": 20,
   "metadata": {
    "collapsed": true
   },
   "outputs": [],
   "source": [
    "import pandas as pd\n",
    "df=pd.DataFrame()\n",
    "df['Id'] = sessionId\n",
    "df['labels']=km.labels_"
   ]
  },
  {
   "cell_type": "code",
   "execution_count": 21,
   "metadata": {
    "collapsed": false
   },
   "outputs": [
    {
     "data": {
      "text/html": [
       "<div>\n",
       "<style>\n",
       "    .dataframe thead tr:only-child th {\n",
       "        text-align: right;\n",
       "    }\n",
       "\n",
       "    .dataframe thead th {\n",
       "        text-align: left;\n",
       "    }\n",
       "\n",
       "    .dataframe tbody tr th {\n",
       "        vertical-align: top;\n",
       "    }\n",
       "</style>\n",
       "<table border=\"1\" class=\"dataframe\">\n",
       "  <thead>\n",
       "    <tr style=\"text-align: right;\">\n",
       "      <th></th>\n",
       "      <th>Id</th>\n",
       "      <th>labels</th>\n",
       "    </tr>\n",
       "  </thead>\n",
       "  <tbody>\n",
       "    <tr>\n",
       "      <th>0</th>\n",
       "      <td>9737</td>\n",
       "      <td>0</td>\n",
       "    </tr>\n",
       "    <tr>\n",
       "      <th>1</th>\n",
       "      <td>9739</td>\n",
       "      <td>0</td>\n",
       "    </tr>\n",
       "    <tr>\n",
       "      <th>2</th>\n",
       "      <td>9741</td>\n",
       "      <td>0</td>\n",
       "    </tr>\n",
       "    <tr>\n",
       "      <th>3</th>\n",
       "      <td>9743</td>\n",
       "      <td>0</td>\n",
       "    </tr>\n",
       "    <tr>\n",
       "      <th>4</th>\n",
       "      <td>9745</td>\n",
       "      <td>0</td>\n",
       "    </tr>\n",
       "    <tr>\n",
       "      <th>5</th>\n",
       "      <td>9747</td>\n",
       "      <td>0</td>\n",
       "    </tr>\n",
       "    <tr>\n",
       "      <th>6</th>\n",
       "      <td>15095</td>\n",
       "      <td>0</td>\n",
       "    </tr>\n",
       "    <tr>\n",
       "      <th>7</th>\n",
       "      <td>15096</td>\n",
       "      <td>0</td>\n",
       "    </tr>\n",
       "    <tr>\n",
       "      <th>8</th>\n",
       "      <td>16137</td>\n",
       "      <td>0</td>\n",
       "    </tr>\n",
       "    <tr>\n",
       "      <th>9</th>\n",
       "      <td>16258</td>\n",
       "      <td>0</td>\n",
       "    </tr>\n",
       "    <tr>\n",
       "      <th>10</th>\n",
       "      <td>16259</td>\n",
       "      <td>0</td>\n",
       "    </tr>\n",
       "    <tr>\n",
       "      <th>11</th>\n",
       "      <td>16260</td>\n",
       "      <td>0</td>\n",
       "    </tr>\n",
       "    <tr>\n",
       "      <th>12</th>\n",
       "      <td>16261</td>\n",
       "      <td>0</td>\n",
       "    </tr>\n",
       "    <tr>\n",
       "      <th>13</th>\n",
       "      <td>16323</td>\n",
       "      <td>0</td>\n",
       "    </tr>\n",
       "    <tr>\n",
       "      <th>14</th>\n",
       "      <td>16401</td>\n",
       "      <td>0</td>\n",
       "    </tr>\n",
       "    <tr>\n",
       "      <th>15</th>\n",
       "      <td>16402</td>\n",
       "      <td>0</td>\n",
       "    </tr>\n",
       "    <tr>\n",
       "      <th>16</th>\n",
       "      <td>16403</td>\n",
       "      <td>0</td>\n",
       "    </tr>\n",
       "    <tr>\n",
       "      <th>17</th>\n",
       "      <td>17526</td>\n",
       "      <td>0</td>\n",
       "    </tr>\n",
       "    <tr>\n",
       "      <th>18</th>\n",
       "      <td>17527</td>\n",
       "      <td>0</td>\n",
       "    </tr>\n",
       "    <tr>\n",
       "      <th>19</th>\n",
       "      <td>17528</td>\n",
       "      <td>0</td>\n",
       "    </tr>\n",
       "    <tr>\n",
       "      <th>20</th>\n",
       "      <td>17529</td>\n",
       "      <td>0</td>\n",
       "    </tr>\n",
       "    <tr>\n",
       "      <th>21</th>\n",
       "      <td>17530</td>\n",
       "      <td>0</td>\n",
       "    </tr>\n",
       "    <tr>\n",
       "      <th>22</th>\n",
       "      <td>17531</td>\n",
       "      <td>0</td>\n",
       "    </tr>\n",
       "    <tr>\n",
       "      <th>23</th>\n",
       "      <td>17532</td>\n",
       "      <td>0</td>\n",
       "    </tr>\n",
       "    <tr>\n",
       "      <th>24</th>\n",
       "      <td>17533</td>\n",
       "      <td>0</td>\n",
       "    </tr>\n",
       "    <tr>\n",
       "      <th>25</th>\n",
       "      <td>17534</td>\n",
       "      <td>0</td>\n",
       "    </tr>\n",
       "    <tr>\n",
       "      <th>26</th>\n",
       "      <td>17535</td>\n",
       "      <td>0</td>\n",
       "    </tr>\n",
       "    <tr>\n",
       "      <th>27</th>\n",
       "      <td>17536</td>\n",
       "      <td>0</td>\n",
       "    </tr>\n",
       "    <tr>\n",
       "      <th>28</th>\n",
       "      <td>17537</td>\n",
       "      <td>0</td>\n",
       "    </tr>\n",
       "    <tr>\n",
       "      <th>29</th>\n",
       "      <td>17538</td>\n",
       "      <td>0</td>\n",
       "    </tr>\n",
       "    <tr>\n",
       "      <th>...</th>\n",
       "      <td>...</td>\n",
       "      <td>...</td>\n",
       "    </tr>\n",
       "    <tr>\n",
       "      <th>23401</th>\n",
       "      <td>128352</td>\n",
       "      <td>2</td>\n",
       "    </tr>\n",
       "    <tr>\n",
       "      <th>23402</th>\n",
       "      <td>128353</td>\n",
       "      <td>0</td>\n",
       "    </tr>\n",
       "    <tr>\n",
       "      <th>23403</th>\n",
       "      <td>128362</td>\n",
       "      <td>0</td>\n",
       "    </tr>\n",
       "    <tr>\n",
       "      <th>23404</th>\n",
       "      <td>128370</td>\n",
       "      <td>0</td>\n",
       "    </tr>\n",
       "    <tr>\n",
       "      <th>23405</th>\n",
       "      <td>128371</td>\n",
       "      <td>0</td>\n",
       "    </tr>\n",
       "    <tr>\n",
       "      <th>23406</th>\n",
       "      <td>128372</td>\n",
       "      <td>2</td>\n",
       "    </tr>\n",
       "    <tr>\n",
       "      <th>23407</th>\n",
       "      <td>128373</td>\n",
       "      <td>3</td>\n",
       "    </tr>\n",
       "    <tr>\n",
       "      <th>23408</th>\n",
       "      <td>128374</td>\n",
       "      <td>0</td>\n",
       "    </tr>\n",
       "    <tr>\n",
       "      <th>23409</th>\n",
       "      <td>128375</td>\n",
       "      <td>1</td>\n",
       "    </tr>\n",
       "    <tr>\n",
       "      <th>23410</th>\n",
       "      <td>128376</td>\n",
       "      <td>1</td>\n",
       "    </tr>\n",
       "    <tr>\n",
       "      <th>23411</th>\n",
       "      <td>128377</td>\n",
       "      <td>1</td>\n",
       "    </tr>\n",
       "    <tr>\n",
       "      <th>23412</th>\n",
       "      <td>128378</td>\n",
       "      <td>0</td>\n",
       "    </tr>\n",
       "    <tr>\n",
       "      <th>23413</th>\n",
       "      <td>128379</td>\n",
       "      <td>0</td>\n",
       "    </tr>\n",
       "    <tr>\n",
       "      <th>23414</th>\n",
       "      <td>128380</td>\n",
       "      <td>0</td>\n",
       "    </tr>\n",
       "    <tr>\n",
       "      <th>23415</th>\n",
       "      <td>128381</td>\n",
       "      <td>0</td>\n",
       "    </tr>\n",
       "    <tr>\n",
       "      <th>23416</th>\n",
       "      <td>128396</td>\n",
       "      <td>0</td>\n",
       "    </tr>\n",
       "    <tr>\n",
       "      <th>23417</th>\n",
       "      <td>128397</td>\n",
       "      <td>1</td>\n",
       "    </tr>\n",
       "    <tr>\n",
       "      <th>23418</th>\n",
       "      <td>128398</td>\n",
       "      <td>1</td>\n",
       "    </tr>\n",
       "    <tr>\n",
       "      <th>23419</th>\n",
       "      <td>128399</td>\n",
       "      <td>1</td>\n",
       "    </tr>\n",
       "    <tr>\n",
       "      <th>23420</th>\n",
       "      <td>128400</td>\n",
       "      <td>0</td>\n",
       "    </tr>\n",
       "    <tr>\n",
       "      <th>23421</th>\n",
       "      <td>128401</td>\n",
       "      <td>0</td>\n",
       "    </tr>\n",
       "    <tr>\n",
       "      <th>23422</th>\n",
       "      <td>128868</td>\n",
       "      <td>0</td>\n",
       "    </tr>\n",
       "    <tr>\n",
       "      <th>23423</th>\n",
       "      <td>128870</td>\n",
       "      <td>0</td>\n",
       "    </tr>\n",
       "    <tr>\n",
       "      <th>23424</th>\n",
       "      <td>128871</td>\n",
       "      <td>0</td>\n",
       "    </tr>\n",
       "    <tr>\n",
       "      <th>23425</th>\n",
       "      <td>128872</td>\n",
       "      <td>0</td>\n",
       "    </tr>\n",
       "    <tr>\n",
       "      <th>23426</th>\n",
       "      <td>128873</td>\n",
       "      <td>0</td>\n",
       "    </tr>\n",
       "    <tr>\n",
       "      <th>23427</th>\n",
       "      <td>128874</td>\n",
       "      <td>0</td>\n",
       "    </tr>\n",
       "    <tr>\n",
       "      <th>23428</th>\n",
       "      <td>128875</td>\n",
       "      <td>0</td>\n",
       "    </tr>\n",
       "    <tr>\n",
       "      <th>23429</th>\n",
       "      <td>128931</td>\n",
       "      <td>0</td>\n",
       "    </tr>\n",
       "    <tr>\n",
       "      <th>23430</th>\n",
       "      <td>129098</td>\n",
       "      <td>0</td>\n",
       "    </tr>\n",
       "  </tbody>\n",
       "</table>\n",
       "<p>23431 rows × 2 columns</p>\n",
       "</div>"
      ],
      "text/plain": [
       "           Id  labels\n",
       "0        9737       0\n",
       "1        9739       0\n",
       "2        9741       0\n",
       "3        9743       0\n",
       "4        9745       0\n",
       "5        9747       0\n",
       "6       15095       0\n",
       "7       15096       0\n",
       "8       16137       0\n",
       "9       16258       0\n",
       "10      16259       0\n",
       "11      16260       0\n",
       "12      16261       0\n",
       "13      16323       0\n",
       "14      16401       0\n",
       "15      16402       0\n",
       "16      16403       0\n",
       "17      17526       0\n",
       "18      17527       0\n",
       "19      17528       0\n",
       "20      17529       0\n",
       "21      17530       0\n",
       "22      17531       0\n",
       "23      17532       0\n",
       "24      17533       0\n",
       "25      17534       0\n",
       "26      17535       0\n",
       "27      17536       0\n",
       "28      17537       0\n",
       "29      17538       0\n",
       "...       ...     ...\n",
       "23401  128352       2\n",
       "23402  128353       0\n",
       "23403  128362       0\n",
       "23404  128370       0\n",
       "23405  128371       0\n",
       "23406  128372       2\n",
       "23407  128373       3\n",
       "23408  128374       0\n",
       "23409  128375       1\n",
       "23410  128376       1\n",
       "23411  128377       1\n",
       "23412  128378       0\n",
       "23413  128379       0\n",
       "23414  128380       0\n",
       "23415  128381       0\n",
       "23416  128396       0\n",
       "23417  128397       1\n",
       "23418  128398       1\n",
       "23419  128399       1\n",
       "23420  128400       0\n",
       "23421  128401       0\n",
       "23422  128868       0\n",
       "23423  128870       0\n",
       "23424  128871       0\n",
       "23425  128872       0\n",
       "23426  128873       0\n",
       "23427  128874       0\n",
       "23428  128875       0\n",
       "23429  128931       0\n",
       "23430  129098       0\n",
       "\n",
       "[23431 rows x 2 columns]"
      ]
     },
     "execution_count": 21,
     "metadata": {},
     "output_type": "execute_result"
    }
   ],
   "source": [
    "df"
   ]
  },
  {
   "cell_type": "code",
   "execution_count": 18,
   "metadata": {
    "collapsed": true
   },
   "outputs": [],
   "source": [
    "df.to_csv('ClassificationNew')"
   ]
  }
 ],
 "metadata": {
  "kernelspec": {
   "display_name": "Python [Root]",
   "language": "python",
   "name": "Python [Root]"
  },
  "language_info": {
   "codemirror_mode": {
    "name": "ipython",
    "version": 3
   },
   "file_extension": ".py",
   "mimetype": "text/x-python",
   "name": "python",
   "nbconvert_exporter": "python",
   "pygments_lexer": "ipython3",
   "version": "3.5.2"
  }
 },
 "nbformat": 4,
 "nbformat_minor": 0
}
