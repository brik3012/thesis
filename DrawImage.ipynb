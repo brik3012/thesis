{
 "cells": [
  {
   "cell_type": "code",
   "execution_count": 1,
   "metadata": {
    "collapsed": true
   },
   "outputs": [],
   "source": [
    "import pyodbc\n",
    "from PIL import Image,ImageDraw\n",
    "import numpy as np\n",
    "import matplotlib.pyplot as mp"
   ]
  },
  {
   "cell_type": "code",
   "execution_count": 2,
   "metadata": {
    "collapsed": true
   },
   "outputs": [],
   "source": [
    "%matplotlib inline"
   ]
  },
  {
   "cell_type": "code",
   "execution_count": 3,
   "metadata": {
    "collapsed": true
   },
   "outputs": [],
   "source": [
    "conn = pyodbc.connect(r'DRIVER={ODBC Driver 13 for SQL Server};'\n",
    "                      r'SERVER=mpk4uitxo6.database.windows.net;'\n",
    "                      r'DATABASE=Sensoria.Knowledge.Database.Live;'\n",
    "                      r'UID=liveuser;'\n",
    "                      r'PWD=7oHWE^Gcr834C*zH;')"
   ]
  },
  {
   "cell_type": "code",
   "execution_count": 4,
   "metadata": {
    "collapsed": false
   },
   "outputs": [],
   "source": [
    "cursor=conn.cursor()\n",
    "cursor.execute(\"SELECT max(Latitude) as MaxLat, min(Longitude) as MinLong, max(Latitude)-min(Latitude) as LatDiff, max(Longitude)-min(Longitude) as LongDiff from dbo.[Sessions.TelemetryData] where SessionId=128054\")\n",
    "rowsPlane = cursor.fetchone()"
   ]
  },
  {
   "cell_type": "code",
   "execution_count": 5,
   "metadata": {
    "collapsed": false
   },
   "outputs": [],
   "source": [
    "cursor=conn.cursor()\n",
    "cursor.execute(\"SELECT Latitude,Longitude from dbo.[Sessions.TelemetryData] where SessionId=128054 order by TelemetryTimeTick\")\n",
    "rowsCoords = cursor.fetchall()"
   ]
  },
  {
   "cell_type": "code",
   "execution_count": 6,
   "metadata": {
    "collapsed": false
   },
   "outputs": [],
   "source": [
    "#img = Image.new( 'L', (100,100), \"white\") # create a new black image\n",
    "#pixels = img.load() # create the pixel map\n",
    "#for j in range(len(rows)):\n",
    "#    pixels[int(longNew[j]), int(latNew[j])] = 0 # set the colour accordingly"
   ]
  },
  {
   "cell_type": "code",
   "execution_count": 7,
   "metadata": {
    "collapsed": false
   },
   "outputs": [
    {
     "ename": "ZeroDivisionError",
     "evalue": "float division by zero",
     "output_type": "error",
     "traceback": [
      "\u001b[1;31m---------------------------------------------------------------------------\u001b[0m",
      "\u001b[1;31mZeroDivisionError\u001b[0m                         Traceback (most recent call last)",
      "\u001b[1;32m<ipython-input-7-220b5a4aefe4>\u001b[0m in \u001b[0;36m<module>\u001b[1;34m()\u001b[0m\n\u001b[0;32m     12\u001b[0m     \u001b[0mcenterLong\u001b[0m\u001b[1;33m=\u001b[0m\u001b[1;33m(\u001b[0m\u001b[1;36m80\u001b[0m\u001b[1;33m-\u001b[0m\u001b[1;33m(\u001b[0m\u001b[0mlongDiff\u001b[0m\u001b[1;33m*\u001b[0m\u001b[0mk\u001b[0m\u001b[1;33m)\u001b[0m\u001b[1;33m)\u001b[0m\u001b[1;33m/\u001b[0m\u001b[1;36m2\u001b[0m\u001b[1;33m\u001b[0m\u001b[0m\n\u001b[0;32m     13\u001b[0m \u001b[1;32melse\u001b[0m\u001b[1;33m:\u001b[0m\u001b[1;33m\u001b[0m\u001b[0m\n\u001b[1;32m---> 14\u001b[1;33m     \u001b[0mk\u001b[0m\u001b[1;33m=\u001b[0m\u001b[1;36m80\u001b[0m\u001b[1;33m/\u001b[0m\u001b[0mlongDiff\u001b[0m\u001b[1;33m\u001b[0m\u001b[0m\n\u001b[0m\u001b[0;32m     15\u001b[0m     \u001b[0mcenterLat\u001b[0m\u001b[1;33m=\u001b[0m\u001b[1;33m(\u001b[0m\u001b[1;36m80\u001b[0m\u001b[1;33m-\u001b[0m\u001b[1;33m(\u001b[0m\u001b[0mlatDiff\u001b[0m\u001b[1;33m*\u001b[0m\u001b[0mk\u001b[0m\u001b[1;33m)\u001b[0m\u001b[1;33m)\u001b[0m\u001b[1;33m/\u001b[0m\u001b[1;36m2\u001b[0m\u001b[1;33m\u001b[0m\u001b[0m\n\u001b[0;32m     16\u001b[0m \u001b[1;32mfor\u001b[0m \u001b[0mj\u001b[0m \u001b[1;32min\u001b[0m \u001b[0mrange\u001b[0m\u001b[1;33m(\u001b[0m\u001b[0mlen\u001b[0m\u001b[1;33m(\u001b[0m\u001b[0mrowsCoords\u001b[0m\u001b[1;33m)\u001b[0m\u001b[1;33m)\u001b[0m\u001b[1;33m:\u001b[0m\u001b[1;33m\u001b[0m\u001b[0m\n",
      "\u001b[1;31mZeroDivisionError\u001b[0m: float division by zero"
     ]
    }
   ],
   "source": [
    "realLen=0\n",
    "latNew=[]\n",
    "longNew=[]\n",
    "latDiff=float(rowsPlane.LatDiff)\n",
    "longDiff=float(rowsPlane.LongDiff)\n",
    "maxLat=float(rowsPlane.MaxLat)\n",
    "minLong=float(rowsPlane.MinLong)\n",
    "centerLat=0\n",
    "centerLong=0\n",
    "if latDiff>longDiff:\n",
    "    k=80/latDiff\n",
    "    centerLong=(80-(longDiff*k))/2\n",
    "else:\n",
    "    k=80/longDiff\n",
    "    centerLat=(80-(latDiff*k))/2\n",
    "for j in range(len(rowsCoords)):\n",
    "    if rowsCoords[j].Latitude is not None:\n",
    "        realLen+=1\n",
    "        lat=float(rowsCoords[j].Latitude)\n",
    "        long=float(rowsCoords[j].Longitude)\n",
    "        latNew=np.append(latNew,abs((lat-maxLat)*k)+10+centerLat)\n",
    "        longNew=np.append(longNew,abs((long-minLong)*k)+10+centerLong)"
   ]
  },
  {
   "cell_type": "code",
   "execution_count": null,
   "metadata": {
    "collapsed": false
   },
   "outputs": [],
   "source": [
    "img = Image.new( 'L', (100,100), \"white\")\n",
    "draw = ImageDraw.Draw(img)\n",
    "draw.line((0,0)+img.size,fill=255)\n",
    "for j in range(realLen-1):\n",
    "    draw.line((int(longNew[j]), int(latNew[j]))+(int(longNew[j+1]), int(latNew[j+1])),fill=0) # set the colour accordingly\n",
    "    draw.line((int(longNew[j])+1, int(latNew[j]))+(int(longNew[j+1])+1, int(latNew[j+1])),fill=0) # set the colour accordingly\n",
    "    draw.line((int(longNew[j]), int(latNew[j])+1)+(int(longNew[j+1]), int(latNew[j+1])+1),fill=0) # set the colour accordingly\n",
    "    draw.line((int(longNew[j])+1, int(latNew[j])+1)+(int(longNew[j+1])+1, int(latNew[j+1])+1),fill=0) # set the colour accordingly"
   ]
  },
  {
   "cell_type": "code",
   "execution_count": null,
   "metadata": {
    "collapsed": false
   },
   "outputs": [],
   "source": [
    "img"
   ]
  },
  {
   "cell_type": "code",
   "execution_count": null,
   "metadata": {
    "collapsed": false
   },
   "outputs": [],
   "source": [
    "if sum(sum(np.array(img)==0))!=0:\n",
    "    print('ehi')"
   ]
  },
  {
   "cell_type": "code",
   "execution_count": null,
   "metadata": {
    "collapsed": false
   },
   "outputs": [],
   "source": [
    "np.array(img).size"
   ]
  },
  {
   "cell_type": "code",
   "execution_count": null,
   "metadata": {
    "collapsed": true
   },
   "outputs": [],
   "source": [
    "img = Image.new( 'L', (100,100), \"black\")\n",
    "draw = ImageDraw.Draw(img)\n",
    "draw.line((0,0)+img.size,fill=0)\n",
    "for j in range(realLen-1):\n",
    "    draw.line((int(longNew[j]), int(latNew[j]))+(int(longNew[j+1]), int(latNew[j+1])),fill=255) # set the colour accordingly\n",
    "    draw.line((int(longNew[j])+1, int(latNew[j]))+(int(longNew[j+1])+1, int(latNew[j+1])),fill=255) # set the colour accordingly\n",
    "    draw.line((int(longNew[j]), int(latNew[j])+1)+(int(longNew[j+1]), int(latNew[j+1])+1),fill=255) # set the colour accordingly\n",
    "    draw.line((int(longNew[j])+1, int(latNew[j])+1)+(int(longNew[j+1])+1, int(latNew[j+1])+1),fill=255) # set the colour accordingly"
   ]
  },
  {
   "cell_type": "code",
   "execution_count": null,
   "metadata": {
    "collapsed": false
   },
   "outputs": [],
   "source": [
    "img"
   ]
  },
  {
   "cell_type": "code",
   "execution_count": null,
   "metadata": {
    "collapsed": false
   },
   "outputs": [],
   "source": [
    "img.rotate(20)"
   ]
  }
 ],
 "metadata": {
  "anaconda-cloud": {},
  "kernelspec": {
   "display_name": "Python [Root]",
   "language": "python",
   "name": "Python [Root]"
  },
  "language_info": {
   "codemirror_mode": {
    "name": "ipython",
    "version": 3
   },
   "file_extension": ".py",
   "mimetype": "text/x-python",
   "name": "python",
   "nbconvert_exporter": "python",
   "pygments_lexer": "ipython3",
   "version": "3.5.2"
  }
 },
 "nbformat": 4,
 "nbformat_minor": 0
}
